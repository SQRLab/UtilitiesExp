{
 "cells": [
  {
   "cell_type": "markdown",
   "metadata": {},
   "source": [
    "Try the code following to connect the slm and camera to the slmsuite"
   ]
  },
  {
   "cell_type": "code",
   "execution_count": null,
   "metadata": {},
   "outputs": [],
   "source": [
    "# connect the SLM\n",
    "from slmsuite.hardware.slms.santec import Santec\n",
    "Santec.info(verbose=True)\n",
    "slm = Santec(slm_number=1, display_number=2, wav_um=.729, settle_time_s=.3)"
   ]
  },
  {
   "cell_type": "code",
   "execution_count": null,
   "metadata": {},
   "outputs": [],
   "source": [
    "#connect the camera\n",
    "from slmsuite.hardware.cameras.alliedvision import AlliedVision\n",
    "AlliedVision.info(verbose=True)\n",
    "cam = AlliedVision(serial=\"02C5V\", verbose=True)\n"
   ]
  },
  {
   "cell_type": "markdown",
   "metadata": {},
   "source": [
    "If they can be successfully connected, then your preparation work is done. If not, please go back to the file \"SLM Computer with Slmsuite Setting Guide\" and making settings again."
   ]
  }
 ],
 "metadata": {
  "language_info": {
   "name": "python"
  },
  "orig_nbformat": 4
 },
 "nbformat": 4,
 "nbformat_minor": 2
}
