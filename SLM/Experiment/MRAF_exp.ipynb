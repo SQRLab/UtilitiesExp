{
 "cells": [
  {
   "cell_type": "code",
   "execution_count": null,
   "metadata": {},
   "outputs": [],
   "source": [
    "import numpy as np\n",
    "import slmsuite\n",
    "from matplotlib import pyplot as plt\n",
    "from slmsuite.holography.algorithms import Hologram,SpotHologram\n",
    "from slmsuite.holography import analysis\n",
    "from tools.IonChainTools import *\n",
    "import matplotlib.pyplot as plt\n",
    "from matplotlib import animation, rc\n",
    "from IPython.display import HTML\n",
    "import scipy.constants as con\n",
    "from PIL import Image\n",
    "from math import sin, pi as π\n",
    "from slmsuite.holography.toolbox import _process_grid,pad\n",
    "import cv2"
   ]
  },
  {
   "cell_type": "code",
   "execution_count": null,
   "metadata": {},
   "outputs": [],
   "source": [
    "#loading the slm-200\n",
    "from slmsuite.hardware.slms.santec import Santec\n",
    "Santec.info(verbose=True)\n",
    "#set wavelength to the correct value\n",
    "slm = Santec(slm_number=1, display_number=2, wav_um=.730, settle_time_s=.3)"
   ]
  },
  {
   "cell_type": "code",
   "execution_count": null,
   "metadata": {},
   "outputs": [],
   "source": [
    "# load the camera\n",
    "from slmsuite.hardware.cameras.alliedvision import AlliedVision\n",
    "AlliedVision.info(verbose=True)\n",
    "#find the camera we want,then choose it\n",
    "cam = AlliedVision(serial=\"02P79\", verbose=True)\n",
    "from slmsuite.hardware.cameraslms import FourierSLM\n",
    "fs = FourierSLM(cam, slm)\n",
    "slm.set_measured_amplitude_analytic(10000)"
   ]
  },
  {
   "cell_type": "code",
   "execution_count": null,
   "metadata": {},
   "outputs": [],
   "source": [
    "#load vendor-provided wavefront calibraiton file\n",
    "slm.load_vendor_phase_correction(\n",
    " file_path='your path\\Wavefront_correction_Data_adjust(730nm).csv', \n",
    " smooth=True\n",
    ")"
   ]
  },
  {
   "cell_type": "code",
   "execution_count": null,
   "metadata": {},
   "outputs": [],
   "source": [
    "#Fourier calibration\n",
    "#Remember everytime we move the camera or change the setup we need to do the Fourier calibration again\n",
    "#When I'm doing the fourier caliration, I put an OD2 and tune the current value to be 24mA for reference. For pratical use, if you find the calibration works not well, please close the camera with demand\" cam.close()\" and then using the \"vimba viewer\" to find the best exposure time and current value so that the camera can detect the array dots\n",
    "\n",
    "cam.set_exposure(100e-6) # set the exposure time for the camera\n",
    "\n",
    "fs.fourier_calibrate(\n",
    "    array_shape=[10, 10],           # Size of the calibration grid (Nx, Ny) [knm]\n",
    "    array_pitch=[18, 18],           # Pitch of the calibration grid (x, y) [knm]\n",
    "    plot=True\n",
    ")"
   ]
  },
  {
   "cell_type": "code",
   "execution_count": null,
   "metadata": {},
   "outputs": [],
   "source": [
    "#Remember to save the calibration data after calibration each time and next time you only need to load the data\n",
    "\n",
    "# fs.save_fourier_calibration()\n",
    "fs.load_fourier_calibration()"
   ]
  },
  {
   "cell_type": "code",
   "execution_count": null,
   "metadata": {},
   "outputs": [],
   "source": [
    "# functions for caculating the ions' position on the camera\n",
    "mCa40 = con.atomic_mass*39.9626\n",
    "\n",
    "def ion_position_act(N,v): #N is the number of the ions, v is the trap frequency\n",
    "    return calcPositions(N)*lengthScale(v)\n",
    "\n",
    "def ion_position_cam(N,v,pixel_size,magnititude = 200):\n",
    "    position = ion_position_act(N,v)*magnititude//pixel_size[0]\n",
    "    return position\n",
    "\n",
    "#Here we are using the MRAF algorithm to calculate the phase, the parameter rectan determines the signal region\n",
    "#rectan =1: the signal region is a rectangle encloses all the ions; rectan = 0: the signal region is the circles around the ions\n",
    "def excite_generator(ions,N,v,pixel_size,pixels,rectan = 1):\n",
    "    position = np.array(ion_position_cam(N,v,pixel_size))\n",
    "    dy = pixels[0]//8\n",
    "    all = range(N)\n",
    "    pos = position[ions]\n",
    "    position_cam = np.column_stack((pos+pixels[1]//2,np.full(pos.shape, pixels[0]//2+dy)))\n",
    "    print(position_cam)\n",
    "    position_cam = position_cam.T\n",
    "    null_point = np.array([pixels[1]//2,pixels[0]//2 -500])\n",
    "    if rectan == 0:\n",
    "        no_ions = np.array([ i for i in all if i not in ions])\n",
    "        null = position[no_ions]\n",
    "        null_points_cam = np.column_stack((null+pixels[1]//2,np.full(null.shape, pixels[0]//2+dy)))\n",
    "        null_points_cam = np.concatenate((null_points_cam,[null_point]), axis=0)\n",
    "        print(null_points_cam)\n",
    "        null_points_cam = null_points_cam.T\n",
    "        holo = SpotHologram(shape=(2048,2048), \n",
    "                spot_vectors=position_cam, \n",
    "                null_vectors=null_points_cam, \n",
    "                null_radius=100, \n",
    "                basis=\"ij\", \n",
    "                cameraslm=fs)\n",
    "    else:\n",
    "        position_all = np.column_stack((position + pixels[1]//2, np.full(position.shape, pixels[0]//2 + dy)))\n",
    "        mask_ij = np.zeros((pixels[1],pixels[0]), dtype=float)\n",
    "        pos1 = position_all[0]\n",
    "        pos2 = position_all[-1]\n",
    "        print(pos1,pos2)\n",
    "        mask_ij[int(pos1[1])-200:int(pos1[1])+200,int(pos1[0])-200:int(pos2[0])+200] = 1.0\n",
    "        holo = SpotHologram(shape = (pixels[1],pixels[0]), \n",
    "                   spot_vectors=position_cam, \n",
    "                   basis=\"ij\", \n",
    "                   cameraslm=fs,\n",
    "                   null_region=mask_ij,\n",
    "                   null_vectors=null_point.T,\n",
    "                   null_radius=100)\n",
    "\n",
    "    \n",
    "    holo.optimize('WGS-Kim', feedback='computational_spot', stat_groups=['computational_spot'], maxiter=20)\n",
    "    holo.optimize('WGS-Kim', feedback='experimental_spot', stat_groups=['computational_spot'], maxiter=20)\n",
    "    \n",
    "    phase = holo.extract_phase()\n",
    "    \n",
    "    return phase"
   ]
  },
  {
   "cell_type": "code",
   "execution_count": null,
   "metadata": {},
   "outputs": [],
   "source": [
    "#the camera we are using has pixels:1944*2592, with pixel_size of 2.2um*2.2um\n",
    "\n",
    "N = 6  # The number of the ions\n",
    "\n",
    "v = 2*π*1e6   # trap frequency  \n",
    "                 \n",
    "pixel_size = np.array([2.2e-6,2.2e-6]) \n",
    "pixels = np.array([1944,2592])\n",
    "\n",
    "ions = np.array([0,1,2,3,4,5]) #Here you determine the ions you want to excite.\n",
    "\n",
    "phase  = excite_generator(ions,N,v,pixel_size,pixels, rectan = 0)\n",
    "slm.write(phase) #write phase to the slm\n"
   ]
  },
  {
   "cell_type": "code",
   "execution_count": null,
   "metadata": {},
   "outputs": [],
   "source": [
    "#plot the image from the camera with circles enclosed the spots\n",
    "cam.set_exposure(100e-6)\n",
    "cam.flush()\n",
    "img = cam.get_image()\n",
    "position = ion_position_cam(N,v,pixel_size)\n",
    "dy = pixels[0]//8\n",
    "position_cam = np.column_stack((position+pixels[1]//2,np.full(position.shape, pixels[0]//2+dy)))\n",
    "for i, pos in enumerate(position_cam):\n",
    "    cv2.circle(img, (int(pos[0]), int(pos[1])), 60, (255, 0, 0), 2)\n",
    "plt.imshow(img)"
   ]
  },
  {
   "cell_type": "code",
   "execution_count": null,
   "metadata": {},
   "outputs": [],
   "source": [
    "#calculate the intensity\n",
    "result = []\n",
    "result.append(np.sum(img[1944//2-500-60:1944//2-500+60,2592//2-60:2592//2+60])/255.0)\n",
    "for i, pos in enumerate(position_cam):\n",
    "        print(pos)\n",
    "        result.append(np.sum(img[int(pos[1])-60:int(pos[1])+60,int(pos[0])-60:int(pos[0])+60])/255.0)\n",
    "intensity = result[1:]\n",
    "background = result[0]\n",
    "\n",
    "#calculate the fidelity\n",
    "from numpy import sqrt\n",
    "inten = np.array([ i- background for i in intensity])\n",
    "inten[inten < 0] = 0\n",
    "all = range(N)\n",
    "undesire = [ i for i in all if i not in ions]\n",
    "Omega_desire = sqrt(inten[ions])\n",
    "Omega_undesire = sqrt(inten[undesire])\n",
    "F1 = sum(Omega_desire)/(len(ions)*max(Omega_desire))\n",
    "F2 = 1-sum(Omega_undesire)/(len(undesire)*max(Omega_desire))\n",
    "F = F1*F2\n",
    "print(F1)\n",
    "print(F2)\n",
    "print(F)"
   ]
  }
 ],
 "metadata": {
  "kernelspec": {
   "display_name": "Python 3",
   "language": "python",
   "name": "python3"
  },
  "language_info": {
   "name": "python",
   "version": "3.9.9"
  }
 },
 "nbformat": 4,
 "nbformat_minor": 2
}
