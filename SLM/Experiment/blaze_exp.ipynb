{
 "cells": [
  {
   "cell_type": "code",
   "execution_count": 1,
   "metadata": {},
   "outputs": [
    {
     "name": "stderr",
     "output_type": "stream",
     "text": [
      "d:\\py\\Python3\\lib\\site-packages\\slmsuite\\holography\\algorithms.py:72: TqdmExperimentalWarning: Using `tqdm.autonotebook.tqdm` in notebook mode. Use `tqdm.tqdm` instead to force console mode (e.g. in jupyter console)\n",
      "  from tqdm.autonotebook import tqdm\n"
     ]
    },
    {
     "name": "stdout",
     "output_type": "stream",
     "text": [
      "cupy not installed. Using numpy.\n"
     ]
    },
    {
     "ename": "ModuleNotFoundError",
     "evalue": "No module named 'tools.IonChainTools'",
     "output_type": "error",
     "traceback": [
      "\u001b[1;31m---------------------------------------------------------------------------\u001b[0m",
      "\u001b[1;31mModuleNotFoundError\u001b[0m                       Traceback (most recent call last)",
      "Input \u001b[1;32mIn [1]\u001b[0m, in \u001b[0;36m<cell line: 5>\u001b[1;34m()\u001b[0m\n\u001b[0;32m      3\u001b[0m \u001b[38;5;28;01mfrom\u001b[39;00m \u001b[38;5;21;01mmatplotlib\u001b[39;00m \u001b[38;5;28;01mimport\u001b[39;00m pyplot \u001b[38;5;28;01mas\u001b[39;00m plt\n\u001b[0;32m      4\u001b[0m \u001b[38;5;28;01mfrom\u001b[39;00m \u001b[38;5;21;01mslmsuite\u001b[39;00m\u001b[38;5;21;01m.\u001b[39;00m\u001b[38;5;21;01mholography\u001b[39;00m\u001b[38;5;21;01m.\u001b[39;00m\u001b[38;5;21;01malgorithms\u001b[39;00m \u001b[38;5;28;01mimport\u001b[39;00m Hologram\n\u001b[1;32m----> 5\u001b[0m \u001b[38;5;28;01mfrom\u001b[39;00m \u001b[38;5;21;01mtools\u001b[39;00m\u001b[38;5;21;01m.\u001b[39;00m\u001b[38;5;21;01mIonChainTools\u001b[39;00m \u001b[38;5;28;01mimport\u001b[39;00m \u001b[38;5;241m*\u001b[39m\n\u001b[0;32m      6\u001b[0m \u001b[38;5;28;01mimport\u001b[39;00m \u001b[38;5;21;01mmatplotlib\u001b[39;00m\u001b[38;5;21;01m.\u001b[39;00m\u001b[38;5;21;01mpyplot\u001b[39;00m \u001b[38;5;28;01mas\u001b[39;00m \u001b[38;5;21;01mplt\u001b[39;00m\n\u001b[0;32m      7\u001b[0m \u001b[38;5;28;01mfrom\u001b[39;00m \u001b[38;5;21;01mmatplotlib\u001b[39;00m \u001b[38;5;28;01mimport\u001b[39;00m animation, rc\n",
      "\u001b[1;31mModuleNotFoundError\u001b[0m: No module named 'tools.IonChainTools'"
     ]
    }
   ],
   "source": [
    "import numpy as np\n",
    "import slmsuite\n",
    "from matplotlib import pyplot as plt\n",
    "from slmsuite.holography.algorithms import Hologram\n",
    "from tools.IonChainTools import *\n",
    "import matplotlib.pyplot as plt\n",
    "import scipy.constants as con\n",
    "from math import sin, pi as π\n",
    "from slmsuite.holography.toolbox import _process_grid\n",
    "import cv2"
   ]
  },
  {
   "cell_type": "code",
   "execution_count": null,
   "metadata": {},
   "outputs": [],
   "source": [
    "#loading the slm-200\n",
    "from slmsuite.hardware.slms.santec import Santec\n",
    "Santec.info(verbose=True)\n",
    "#set wavelength to the correct value\n",
    "slm = Santec(slm_number=1, display_number=2, wav_um=.730, settle_time_s=.3)"
   ]
  },
  {
   "cell_type": "code",
   "execution_count": null,
   "metadata": {},
   "outputs": [],
   "source": [
    "# load the camera\n",
    "from slmsuite.hardware.cameras.alliedvision import AlliedVision\n",
    "AlliedVision.info(verbose=True)\n",
    "#find the camera we want,then choose it\n",
    "cam = AlliedVision(serial=\"0245P\", verbose=True)\n",
    "from slmsuite.hardware.cameraslms import FourierSLM\n",
    "fs = FourierSLM(cam, slm)"
   ]
  },
  {
   "cell_type": "code",
   "execution_count": null,
   "metadata": {},
   "outputs": [],
   "source": [
    "#load vendor-provided wavefront calibraiton file\n",
    "slm.load_vendor_phase_correction(\n",
    " file_path='your path\\Wavefront_correction_Data_adjust(730nm).csv', \n",
    " smooth=True\n",
    ")"
   ]
  },
  {
   "cell_type": "code",
   "execution_count": null,
   "metadata": {},
   "outputs": [],
   "source": [
    "#Fourier calibration\n",
    "#Remember everytime we move the camera or change the setup we need to do the Fourier calibration again\n",
    "#When I'm doing the fourier caliration, I put an OD2 and tune the current value to be 24mA for reference. For pratical use, if you find the calibration works not well, please close the camera with demand\" cam.close()\" and then using the \"vimba viewer\" to find the best exposure time and current value so that the camera can detect the array dots\n",
    "\n",
    "cam.set_exposure(100e-6) # set the exposure time for the camera\n",
    "\n",
    "fs.fourier_calibrate(\n",
    "    array_shape=[10, 10],           # Size of the calibration grid (Nx, Ny) [knm]\n",
    "    array_pitch=[18, 18],           # Pitch of the calibration grid (x, y) [knm]\n",
    "    plot=True\n",
    ")"
   ]
  },
  {
   "cell_type": "code",
   "execution_count": null,
   "metadata": {},
   "outputs": [],
   "source": [
    "#Remember to save the calibration data after calibration each time and next time you only need to load the data\n",
    "\n",
    "# fs.save_fourier_calibration()\n",
    "fs.load_fourier_calibration()"
   ]
  },
  {
   "cell_type": "code",
   "execution_count": null,
   "metadata": {},
   "outputs": [],
   "source": [
    "# functions for caculating the ions' position on the camera\n",
    "mCa40 = con.atomic_mass*39.9626\n",
    "\n",
    "def ion_position_act(N,v): #N is the number of the ions, v is the trap frequency\n",
    "    return calcPositions(N)*lengthScale(v)\n",
    "\n",
    "def ion_position_cam(N,v,pixel_size,magnititude = 200):\n",
    "    position = ion_position_act(N,v)*magnititude//pixel_size[0]\n",
    "    return position\n",
    "\n",
    "# function for generating blaze grating phase\n",
    "def blaze_grating_phase(grid, vector=(0, 0),offset=0,):\n",
    "    (x_grid, y_grid) = _process_grid(grid)\n",
    "\n",
    "    # Optimize phase construction based on context.\n",
    "    if vector[0] == 0 and vector[1] == 0:\n",
    "        return np.zeros_like(x_grid) + offset\n",
    "    elif vector[0] == 0:\n",
    "        return 2 * np.pi * (vector[1] * y_grid) + offset\n",
    "    elif vector[1] == 0:\n",
    "        return 2 * np.pi * (vector[0] * x_grid) + offset\n",
    "    else:\n",
    "        return 2 * np.pi * (vector[0] * x_grid + vector[1] * y_grid) + offset\n",
    "\n",
    "# Use the grating phase to excite the ions\n",
    "def excite_generator(ions,N,v,pixel_size,pixels,offset = 0):\n",
    "    '''\n",
    "    ions: target ions;\n",
    "    N: total number of ions;\n",
    "    v: trap frequency;\n",
    "    pixel_size: the size of one pixel of camera\n",
    "    pixels: the number of pixel of camera\n",
    "    '''\n",
    "    position = ion_position_cam(N,v,pixel_size) # calculate ions' position in x-axis\n",
    "    dy = pixels[0]//8   #displacement of the y-axis\n",
    "    \n",
    "    position_cam = np.column_stack((position+pixels[1]//2,np.full(position.shape, pixels[0]//2+dy))) #positions in the camera\n",
    "    \n",
    "    vector = []\n",
    "    for i, pos in enumerate(position_cam):\n",
    "        vector.append(fs.ijcam_to_kxyslm(pos))\n",
    "        \n",
    "    blaze_phase = []\n",
    "    for i, vec in enumerate(vector):\n",
    "        blaze_phase.append(blaze_grating_phase(grid=slm, vector=vec,offset = offset))\n",
    "    \n",
    "    result_shape = blaze_phase[0].shape  \n",
    "    new_holo = np.zeros(result_shape, dtype=np.complex128)\n",
    "\n",
    "    for i in ions:\n",
    "        new_holo += np.exp(1j * blaze_phase[i])\n",
    "\n",
    "    phase = np.angle(new_holo)\n",
    "    return phase"
   ]
  },
  {
   "cell_type": "code",
   "execution_count": null,
   "metadata": {},
   "outputs": [],
   "source": [
    "#the camera we are using has pixels:1944*2592, with pixel_size of 2.2um*2.2um\n",
    "\n",
    "N = 6  # The number of the ions\n",
    "\n",
    "v = 2*π*1e6   # trap frequency  \n",
    "                 \n",
    "pixel_size = np.array([2.2e-6,2.2e-6]) \n",
    "pixels = np.array([1944,2592])\n",
    "\n",
    "ions = np.array([0,1,2,3,4,5]) #Here you determine the ions you want to excite.\n",
    "\n",
    "phase  = excite_generator(ions,N,v,pixel_size,pixels,offset = 0)\n",
    "slm.write(phase) #write phase to the slm"
   ]
  },
  {
   "cell_type": "code",
   "execution_count": null,
   "metadata": {},
   "outputs": [],
   "source": [
    "#plot the image from the camera with circles enclosed the spots\n",
    "cam.set_exposure(100e-6)\n",
    "cam.flush()\n",
    "img = cam.get_image()\n",
    "position = ion_position_cam(N,v,pixel_size)\n",
    "dy = pixels[0]//8\n",
    "position_cam = np.column_stack((position+pixels[1]//2,np.full(position.shape, pixels[0]//2+dy)))\n",
    "for i, pos in enumerate(position_cam):\n",
    "    cv2.circle(img, (int(pos[0]), int(pos[1])), 60, (255, 0, 0), 2)\n",
    "plt.imshow(img)"
   ]
  },
  {
   "cell_type": "code",
   "execution_count": null,
   "metadata": {},
   "outputs": [],
   "source": [
    "#calculate the intensity on different ions\n",
    "cal = []\n",
    "cal.append(np.sum(img[1944//2-500-60:1944//2-500+60,2592//2-60:2592//2+60])/255.0) #a reference data for background intensity\n",
    "for i, pos in enumerate(position_cam):\n",
    "    cal.append(np.sum(img[int(pos[1])-60:int(pos[1])+60,int(pos[0])-60:int(pos[0])+60])/255.0)"
   ]
  },
  {
   "cell_type": "code",
   "execution_count": null,
   "metadata": {},
   "outputs": [],
   "source": [
    "#plot the intensity at different ions\n",
    "plt.scatter(range(7),cal, c='blue', marker='o', label='data')\n",
    "plt.xlabel('ions')\n",
    "plt.ylabel('intensity')\n",
    "# plt.ylim(1250, 2250)\n",
    "# plt.yticks(np.arange(1250,2250,125))\n",
    "plt.legend()\n",
    "plt.show()"
   ]
  },
  {
   "cell_type": "code",
   "execution_count": null,
   "metadata": {},
   "outputs": [],
   "source": [
    "#calculate the fidelity\n",
    "intensity = cal[1:]\n",
    "background = cal[0]\n",
    "\n",
    "inten = np.array([ i- background for i in intensity])\n",
    "all = range(N)\n",
    "undesire = [ i for i in all if i not in ions]\n",
    "Omega_desire = np.sqrt(inten[ions])\n",
    "Omega_undesire = np.sqrt(inten[undesire])\n",
    "F1 = sum(Omega_desire)/(len(ions)*max(Omega_desire))\n",
    "F2 = 1-sum(Omega_undesire)/(len(undesire)*max(Omega_desire))\n",
    "F = F1*F2\n",
    "\n",
    "print(F1)\n",
    "print(F2)\n",
    "print(F)"
   ]
  }
 ],
 "metadata": {
  "kernelspec": {
   "display_name": "Python 3",
   "language": "python",
   "name": "python3"
  },
  "language_info": {
   "codemirror_mode": {
    "name": "ipython",
    "version": 3
   },
   "file_extension": ".py",
   "mimetype": "text/x-python",
   "name": "python",
   "nbconvert_exporter": "python",
   "pygments_lexer": "ipython3",
   "version": "3.9.9"
  }
 },
 "nbformat": 4,
 "nbformat_minor": 2
}
