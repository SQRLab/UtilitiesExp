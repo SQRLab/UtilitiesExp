{
 "cells": [
  {
   "cell_type": "code",
   "execution_count": null,
   "metadata": {},
   "outputs": [],
   "source": [
    "import numpy as np\n",
    "from matplotlib import pyplot as plt\n",
    "from slmsuite.holography.algorithms import Hologram,SpotHologram\n",
    "from tools.IonChainTools import *\n",
    "import matplotlib.pyplot as plt\n",
    "import scipy.constants as con\n",
    "from math import pi as π"
   ]
  },
  {
   "cell_type": "code",
   "execution_count": null,
   "metadata": {},
   "outputs": [],
   "source": [
    "#loading the slm-200\n",
    "from slmsuite.hardware.slms.santec import Santec\n",
    "Santec.info(verbose=True)\n",
    "#set wavelength to the correct value\n",
    "slm = Santec(slm_number=1, display_number=2, wav_um=.730, settle_time_s=.3)"
   ]
  },
  {
   "cell_type": "code",
   "execution_count": null,
   "metadata": {},
   "outputs": [],
   "source": [
    "# load the camera\n",
    "from slmsuite.hardware.cameras.alliedvision import AlliedVision\n",
    "AlliedVision.info(verbose=True)\n",
    "#find the camera we want,then choose it\n",
    "cam = AlliedVision(serial=\"0245P\", verbose=True)\n",
    "from slmsuite.hardware.cameraslms import FourierSLM\n",
    "fs = FourierSLM(cam, slm)"
   ]
  },
  {
   "cell_type": "code",
   "execution_count": null,
   "metadata": {},
   "outputs": [],
   "source": [
    "#load vendor-provided wavefront calibraiton file\n",
    "slm.load_vendor_phase_correction(\n",
    " file_path='your path\\Wavefront_correction_Data_adjust(730nm).csv', \n",
    " smooth=True\n",
    ")"
   ]
  },
  {
   "cell_type": "code",
   "execution_count": null,
   "metadata": {},
   "outputs": [],
   "source": [
    "#Fourier calibration\n",
    "#Remember everytime we move the camera or change the setup we need to do the Fourier calibration again\n",
    "#When I'm doing the fourier caliration, I put an OD2 and tune the current value to be 24mA for reference. For pratical use, if you find the calibration works not well, please close the camera with demand\" cam.close()\" and then using the \"vimba viewer\" to find the best exposure time and current value so that the camera can detect the array dots\n",
    "\n",
    "cam.set_exposure(100e-6) # set the exposure time for the camera\n",
    "\n",
    "fs.fourier_calibrate(\n",
    "    array_shape=[10, 10],           # Size of the calibration grid (Nx, Ny) [knm]\n",
    "    array_pitch=[18, 18],           # Pitch of the calibration grid (x, y) [knm]\n",
    "    plot=True\n",
    ")"
   ]
  },
  {
   "cell_type": "code",
   "execution_count": null,
   "metadata": {},
   "outputs": [],
   "source": [
    "#Remember to save the calibration data after calibration each time and next time you only need to load the data\n",
    "\n",
    "# fs.save_fourier_calibration()\n",
    "fs.load_fourier_calibration()"
   ]
  },
  {
   "cell_type": "code",
   "execution_count": null,
   "metadata": {},
   "outputs": [],
   "source": [
    "# functions for caculating the ions' position on the camera\n",
    "mCa40 = con.atomic_mass*39.9626\n",
    "\n",
    "def ion_position_act(N,v): #N is the number of the ions, v is the trap frequency\n",
    "    return calcPositions(N)*lengthScale(v)\n",
    "\n",
    "def ion_position_cam(N,v,pixel_size,magnititude = 200):\n",
    "    position = ion_position_act(N,v)*magnititude//pixel_size[0]\n",
    "    return position\n",
    "\n",
    "def excite_generator(ions,N,v,pixel_size,pixels):\n",
    "    '''\n",
    "    ions: targeted ions;\n",
    "    N: number of ions;\n",
    "    v: trap frequency;\n",
    "    pixel_size: the size of one pixel of camera;\n",
    "    pixels: the number of pixels of camera\n",
    "    '''\n",
    "    position = np.array(ion_position_cam(N,v,pixel_size))\n",
    "    dy = pixels[0]//8 \n",
    "    all = range(N)\n",
    "    pos = position[ions]\n",
    "    position_cam = np.column_stack((pos+pixels[1]//2,np.full(pos.shape, pixels[0]//2+dy)))\n",
    "    position_cam = position_cam.T\n",
    "    holo = SpotHologram(shape=(2048,2048), \n",
    "            spot_vectors=position_cam, \n",
    "            basis=\"ij\", \n",
    "            cameraslm=fs)\n",
    "    holo.optimize('WGS-Kim', feedback='computational_spot', stat_groups=['computational_spot'], maxiter=20)\n",
    "    holo.optimize('WGS-Kim', feedback='experimental_spot', stat_groups=['computational_spot'], maxiter=30) #use camera feedback\n",
    "    \n",
    "    phase = holo.extract_phase()\n",
    "    \n",
    "    return phase\n"
   ]
  },
  {
   "cell_type": "code",
   "execution_count": null,
   "metadata": {},
   "outputs": [],
   "source": [
    "#the camera we are using has pixels:1944*2592, with pixel_size of 2.2um*2.2um\n",
    "\n",
    "N = 6  # The number of the ions\n",
    "\n",
    "v = 2*π*1e6   # trap frequency  \n",
    "                 \n",
    "pixel_size = np.array([2.2e-6,2.2e-6]) \n",
    "pixels = np.array([1944,2592])\n",
    "\n",
    "ions = np.array([0,1,2,3,4,5]) #Here you determine the ions you want to excite.\n",
    "\n",
    "phase  = excite_generator(ions,N,v,pixel_size,pixels)\n",
    "slm.write(phase) #write phase to the slm"
   ]
  },
  {
   "cell_type": "code",
   "execution_count": null,
   "metadata": {},
   "outputs": [],
   "source": [
    "#plot the image from the camera with circles enclosed the spots\n",
    "cam.set_exposure(100e-6)\n",
    "cam.flush()\n",
    "img = cam.get_image()\n",
    "position = ion_position_cam(N,v,pixel_size)\n",
    "dy = pixels[0]//8\n",
    "position_cam = np.column_stack((position+pixels[1]//2,np.full(position.shape, pixels[0]//2+dy)))\n",
    "for i, pos in enumerate(position_cam):\n",
    "    cv2.circle(img, (int(pos[0]), int(pos[1])), 60, (255, 0, 0), 2)\n",
    "plt.imshow(img)"
   ]
  },
  {
   "cell_type": "code",
   "execution_count": null,
   "metadata": {},
   "outputs": [],
   "source": [
    "#calculate the intensity on different ions\n",
    "cal = []\n",
    "cal.append(np.sum(img[1944//2-500-60:1944//2-500+60,2592//2-60:2592//2+60])/255.0) #a reference data for background intensity\n",
    "for i, pos in enumerate(position_cam):\n",
    "    cal.append(np.sum(img[int(pos[1])-60:int(pos[1])+60,int(pos[0])-60:int(pos[0])+60])/255.0)"
   ]
  },
  {
   "cell_type": "code",
   "execution_count": null,
   "metadata": {},
   "outputs": [],
   "source": [
    "#plot the intensity at different ions\n",
    "plt.scatter(range(7),cal, c='blue', marker='o', label='data')\n",
    "plt.xlabel('ions')\n",
    "plt.ylabel('intensity')\n",
    "# plt.ylim(1250, 2250)\n",
    "# plt.yticks(np.arange(1250,2250,125))\n",
    "plt.legend()\n",
    "plt.show()"
   ]
  },
  {
   "cell_type": "code",
   "execution_count": null,
   "metadata": {},
   "outputs": [],
   "source": [
    "#calculate the fidelity\n",
    "from numpy import sum, sqrt, max\n",
    "import numpy as np\n",
    "intensity = cal[1:]\n",
    "all = range(N)\n",
    "undesire = [ i for i in all if i not in ions]\n",
    "intensity = np.array(intensity)\n",
    "# background = result[0], Here is a little different from using the blaze grating phase, I recommend you use the background data calculated by using the blaze grating phase due to MRAF's property\n",
    "# The below is the data in my test as a reference\n",
    "intensity_non = intensity[undesire]\n",
    "intensity_non = np.append(intensity_non,cal[0])\n",
    "background = np.min(intensity_non)\n",
    "\n",
    "inten = np.array([ i- background for i in intensity])\n",
    "inten[inten < 0] = 0\n",
    "\n",
    "Omega_desire = sqrt(inten[ions])\n",
    "Omega_undesire = sqrt(inten[undesire])\n",
    "F1 = sum(Omega_desire)/(len(ions)*max(Omega_desire))\n",
    "F2 = 1-sum(Omega_undesire)/(len(undesire)*max(Omega_desire))\n",
    "F = F1*F2\n",
    "\n",
    "print(F1)\n",
    "print(F2)\n",
    "print(F)"
   ]
  }
 ],
 "metadata": {
  "kernelspec": {
   "display_name": "Python 3",
   "language": "python",
   "name": "python3"
  },
  "language_info": {
   "name": "python",
   "version": "3.9.9"
  }
 },
 "nbformat": 4,
 "nbformat_minor": 2
}
