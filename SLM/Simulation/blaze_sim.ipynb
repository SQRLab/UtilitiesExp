{
 "cells": [
  {
   "cell_type": "code",
   "execution_count": null,
   "metadata": {},
   "outputs": [],
   "source": [
    "import numpy as np\n",
    "import matplotlib.pyplot as plt\n",
    "import matplotlib as mpl\n",
    "mpl.rc('image', cmap='Blues')\n",
    "from tools.IonChainTools import *\n",
    "from scipy import fft"
   ]
  },
  {
   "cell_type": "code",
   "execution_count": null,
   "metadata": {},
   "outputs": [],
   "source": [
    "target_size = (1200,1920) # the number of pixels of slm\n",
    "pixel_size = np.array([7.8e-6,7.8e-6]) # the size of one pixel of camera\n",
    "ions = np.array([0,1,2,5]) # the target ion"
   ]
  },
  {
   "cell_type": "code",
   "execution_count": null,
   "metadata": {},
   "outputs": [],
   "source": [
    "N = 6 #number of total ions\n",
    "v = 2*π*1e6 #trap frequency\n",
    "slm_size = target_size\n",
    "\n",
    "#Create a virtual SLM and camera\n",
    "from slmsuite.hardware.slms.slm import SLM\n",
    "from slmsuite.hardware.cameras.camera import Camera\n",
    "from slmsuite.hardware.cameraslms import FourierSLM\n",
    "\n",
    "wav_um = 0.730\n",
    "slm = SLM (slm_size[1],slm_size[0], dx_um=7.8, dy_um=7.8, wav_um=wav_um)\n",
    "camera = Camera(target_size[1],target_size[0])\n",
    "\n",
    "slm.set_measured_amplitude_analytic(800) #set the beam size of the SLM\n",
    "fs = FourierSLM(camera, slm)"
   ]
  },
  {
   "cell_type": "code",
   "execution_count": null,
   "metadata": {},
   "outputs": [],
   "source": [
    "def ion_position_act(N,v): #N is the number of the ions, v is the trap frequency\n",
    "    return calcPositions(N)*lengthScale(v)\n",
    "\n",
    "def ion_position_cam(N,v,pixel_size,magnititude = 200): \n",
    "    '''\n",
    "    magnify the distance between the ions by 'magnitude' times\n",
    "    return the pixel location in the camera\n",
    "    '''\n",
    "    position = ion_position_act(N,v)*magnititude//pixel_size[0]\n",
    "    return position"
   ]
  },
  {
   "cell_type": "code",
   "execution_count": null,
   "metadata": {},
   "outputs": [],
   "source": [
    "#calculate the location of ions in the fourier plane\n",
    "mag = 100 * 7.8 / 2.2\n",
    "position = np.array(ion_position_cam(N,v,pixel_size,magnititude= mag))\n",
    "dy = target_size[0]//8 \n",
    "pos = position[ions]\n",
    "position_cam = np.column_stack((pos+target_size[1]//2,np.full(pos.shape,target_size[0]//2+dy))) \n",
    "\n",
    "#calculate the blaze grating phase\n",
    "x_coordinates, y_coordinates = np.meshgrid(np.arange(slm_size[1]), np.arange(slm_size[0]))\n",
    "(center_x, center_y) = (slm_size[1]//2,slm_size[0]//2)\n",
    "field_array = np.zeros(slm_size, dtype=complex)\n",
    "for position1 in position_cam:\n",
    "    (x, y) = position1\n",
    "    shift_x,shift_y = x - center_x,y- center_y\n",
    "    fx,fy = shift_x/slm_size[1], shift_y/slm_size[0]\n",
    "    blaze_grating_phase = 2 * np.pi * (fx * x_coordinates  + fy * y_coordinates)\n",
    "    field = np.exp(1j * blaze_grating_phase)\n",
    "    field_array += field\n",
    "blaze_phase = np.angle(field_array)\n",
    "# the nearfield on the SLM\n",
    "nearfield = slm._get_measured_amplitude() * np.exp(1j * blaze_phase)\n",
    "# the farfield on the SLM\n",
    "farfield = fft.fftshift(fft.fft2(fft.fftshift(nearfield), norm=\"ortho\"))"
   ]
  },
  {
   "cell_type": "code",
   "execution_count": null,
   "metadata": {},
   "outputs": [],
   "source": [
    "#plot the enhanced amplitude \n",
    "am_ff = np.abs(farfield)\n",
    "# norm_amp = (am_ff - am_ff.min())/(am_ff.max() - am_ff.min())\n",
    "log_scale_data = np.log(1+np.sqrt(am_ff))\n",
    "from matplotlib import ticker\n",
    "plt.figure(figsize=(8, 6))\n",
    "img = plt.imshow(log_scale_data)\n",
    "cb = plt.colorbar(img, label='Amplitude', format='%.1f')\n",
    "\n",
    "# Adjust the colorbar labels to show 10^log_data format\n",
    "cb.formatter = ticker.FuncFormatter(lambda x, pos: f'10^{x:.1f}')\n",
    "cb.update_ticks()\n",
    "\n",
    "plt.title('Farfield Data Visualization')\n",
    "plt.xlabel('X-axis')\n",
    "plt.ylabel('Y-axis')\n",
    "plt.show()"
   ]
  },
  {
   "cell_type": "code",
   "execution_count": null,
   "metadata": {},
   "outputs": [],
   "source": [
    "#calculate the intensity at position of ions\n",
    "intensity = am_ff **2\n",
    "cal = []\n",
    "all = range(N)\n",
    "pos_all = position[all]\n",
    "position_all = np.column_stack((np.full(pos_all.shape,target_size[0]//2+dy),pos_all+target_size[1]//2))\n",
    "for i, pos in enumerate(position_all):\n",
    "    cal.append(np.sum(intensity[int(pos[0])-60:int(pos[0])+60,int(pos[1])-60:int(pos[1])+60]))"
   ]
  },
  {
   "cell_type": "code",
   "execution_count": null,
   "metadata": {},
   "outputs": [],
   "source": [
    "#plot the intensity for different ions\n",
    "plt.scatter(range(6),cal, c='blue', marker='o', label='data')\n",
    "plt.xlabel('ions')\n",
    "plt.ylabel('intensity')\n",
    "# plt.ylim(1250, 2250)\n",
    "# plt.yticks(np.arange(1250,2250,125))\n",
    "plt.legend()\n",
    "plt.show()"
   ]
  },
  {
   "cell_type": "code",
   "execution_count": null,
   "metadata": {},
   "outputs": [],
   "source": [
    "#calculate the fidelity\n",
    "intensity = cal\n",
    "background = 0\n",
    "\n",
    "inten = np.array([ i- background for i in intensity])\n",
    "all = range(N)\n",
    "undesire = [ i for i in all if i not in ions]\n",
    "Omega_desire = np.sqrt(inten[ions])\n",
    "Omega_undesire = np.sqrt(inten[undesire])\n",
    "F1 = sum(Omega_desire)/(len(ions)*max(Omega_desire))\n",
    "F2 = 1-sum(Omega_undesire)/(len(undesire)*max(Omega_desire))\n",
    "F = F1*F2\n",
    "\n",
    "print(F1)\n",
    "print(F2)\n",
    "print(F)"
   ]
  }
 ],
 "metadata": {
  "kernelspec": {
   "display_name": "Python 3",
   "language": "python",
   "name": "python3"
  },
  "language_info": {
   "name": "python",
   "version": "3.9.9"
  }
 },
 "nbformat": 4,
 "nbformat_minor": 2
}
