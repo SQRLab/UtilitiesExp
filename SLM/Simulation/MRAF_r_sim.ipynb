{
 "cells": [
  {
   "cell_type": "code",
   "execution_count": null,
   "metadata": {},
   "outputs": [],
   "source": [
    "import numpy as np\n",
    "import matplotlib.pyplot as plt\n",
    "import matplotlib as mpl\n",
    "mpl.rc('image', cmap='Blues')\n",
    "from slmsuite.holography.algorithms import Hologram, SpotHologram\n",
    "from tools.IonChainTools import *"
   ]
  },
  {
   "cell_type": "code",
   "execution_count": null,
   "metadata": {},
   "outputs": [],
   "source": [
    "def ion_position_act(N,v): #N is the number of the ions, v is the trap frequency\n",
    "    return calcPositions(N)*lengthScale(v)\n",
    "\n",
    "def ion_position_cam(N,v,pixel_size,magnititude = 200):\n",
    "    position = ion_position_act(N,v)*magnititude//pixel_size[0]\n",
    "    return position"
   ]
  },
  {
   "cell_type": "code",
   "execution_count": null,
   "metadata": {},
   "outputs": [],
   "source": [
    "target_size = (1200,1920)\n",
    "target = np.zeros(target_size, dtype=int)\n",
    "pixel_size = np.array([7.8e-6,7.8e-6]) \n",
    "ions = np.array([0,1,2,5])"
   ]
  },
  {
   "cell_type": "code",
   "execution_count": null,
   "metadata": {},
   "outputs": [],
   "source": [
    "N = 6\n",
    "v = 2*π*1e6 \n",
    "mag = 100 * 7.8 / 2.2\n",
    "position = np.array(ion_position_cam(N,v,pixel_size,magnititude= mag))\n",
    "dy = target_size[0]//8 \n",
    "pos = position[ions]\n",
    "position_cam = np.column_stack((pos+target_size[1]//2,np.full(pos.shape,target_size[0]//2+dy)))\n",
    "\n",
    "# Note: For now, we'll assume the SLM and target are the same size (since they're a Fourier pair)\n",
    "slm_size = target_size\n",
    "print(position_cam)"
   ]
  },
  {
   "cell_type": "code",
   "execution_count": null,
   "metadata": {},
   "outputs": [],
   "source": [
    "#Create a virtual SLM and camera\n",
    "from slmsuite.hardware.slms.slm import SLM\n",
    "from slmsuite.hardware.cameras.camera import Camera\n",
    "from slmsuite.hardware.cameraslms import FourierSLM\n",
    "\n",
    "wav_um = 0.730\n",
    "slm = SLM (slm_size[1],slm_size[0], dx_um=7.8, dy_um=7.8, wav_um=wav_um)\n",
    "camera = Camera(target_size[1],target_size[0])\n",
    "\n",
    "slm.set_measured_amplitude_analytic(800)\n",
    "fs = FourierSLM(camera, slm)"
   ]
  },
  {
   "cell_type": "code",
   "execution_count": null,
   "metadata": {},
   "outputs": [],
   "source": [
    "position_all = np.column_stack((np.full(position.shape,target_size[0]//2+dy),position+target_size[1]//2))\n",
    "mask_ij = np.zeros((1200,1920), dtype=bool)\n",
    "mask_ij[600:900,400:1500] = True\n",
    "position_cam_T = position_cam.T\n",
    "null_point = np.array([1920//2,1200//2-300]).T\n",
    "holo = SpotHologram(shape=(1200, 1920), \n",
    "            spot_vectors=position_cam_T , \n",
    "            cameraslm=fs,\n",
    "            null_region = mask_ij,\n",
    "            null_vectors= null_point,\n",
    "            null_radius= 60\n",
    "            )\n",
    "\n",
    "holo.optimize(method = 'WGS-Kim', maxiter=50)"
   ]
  },
  {
   "cell_type": "code",
   "execution_count": null,
   "metadata": {},
   "outputs": [],
   "source": [
    "#plot the nearfield and of SLM\n",
    "holo.plot_nearfield(padded=True,cbar=True)\n",
    "limit = np.array(((500,1400),(600,900)))\n",
    "holo.plot_farfield(cbar=True,limits = limit,figsize=(10, 8))"
   ]
  },
  {
   "cell_type": "code",
   "execution_count": null,
   "metadata": {},
   "outputs": [],
   "source": [
    "#plot the enhanced farfield amplitude\n",
    "image = holo.extract_farfield()\n",
    "amp = np.abs(image)\n",
    "# norm_amp = (amp - amp.min())/(amp.max() - amp.min())\n",
    "# plt.imshow(np.log(1+np.sqrt(norm_amp)))\n",
    "log_scale_data = np.log(1+np.sqrt(amp))\n",
    "from matplotlib import ticker\n",
    "plt.figure(figsize=(8, 6))\n",
    "img = plt.imshow(log_scale_data)\n",
    "cb = plt.colorbar(img, label='Amplitude', format='%.2f')\n",
    "\n",
    "# Adjust the colorbar labels to show 10^log_data format\n",
    "cb.formatter = ticker.FuncFormatter(lambda x, pos: f'10^{x:.2f}')\n",
    "cb.update_ticks()\n",
    "\n",
    "plt.title('Farfield Data Visualization')\n",
    "plt.xlabel('X-axis')\n",
    "plt.ylabel('Y-axis')\n",
    "plt.show()\n"
   ]
  },
  {
   "cell_type": "code",
   "execution_count": null,
   "metadata": {},
   "outputs": [],
   "source": [
    "#calculate the intensity at the positions of ions\n",
    "intensity = np.abs(image)**2\n",
    "cal = []\n",
    "all = range(N)\n",
    "pos_all = position[all]\n",
    "position_all = np.column_stack((np.full(pos_all.shape,target_size[0]//2+dy),pos_all+target_size[1]//2))\n",
    "for i, pos in enumerate(position_all):\n",
    "    cal.append(np.sum(intensity[int(pos[0])-60:int(pos[0])+60,int(pos[1])-60:int(pos[1])+60]))"
   ]
  },
  {
   "cell_type": "code",
   "execution_count": null,
   "metadata": {},
   "outputs": [],
   "source": [
    "#plot the intensity of the ions\n",
    "plt.scatter(range(6),cal, c='blue', marker='o', label='data')\n",
    "plt.xlabel('ions')\n",
    "plt.ylabel('intensity')\n",
    "# plt.ylim(1250, 2250)\n",
    "# plt.yticks(np.arange(1250,2250,125))\n",
    "plt.legend()\n",
    "plt.show()"
   ]
  },
  {
   "cell_type": "code",
   "execution_count": null,
   "metadata": {},
   "outputs": [],
   "source": [
    "#calculate the fidelity\n",
    "intensity = cal\n",
    "background = 0\n",
    "\n",
    "inten = np.array([ i- background for i in intensity])\n",
    "all = range(N)\n",
    "undesire = [ i for i in all if i not in ions]\n",
    "Omega_desire = np.sqrt(inten[ions])\n",
    "Omega_undesire = np.sqrt(inten[undesire])\n",
    "F1 = sum(Omega_desire)/(len(ions)*max(Omega_desire))\n",
    "F2 = 1-sum(Omega_undesire)/(len(undesire)*max(Omega_desire))\n",
    "F = F1*F2\n",
    "\n",
    "print(F1)\n",
    "print(F2)\n",
    "print(F)"
   ]
  }
 ],
 "metadata": {
  "kernelspec": {
   "display_name": "Python 3",
   "language": "python",
   "name": "python3"
  },
  "language_info": {
   "name": "python",
   "version": "3.9.9"
  }
 },
 "nbformat": 4,
 "nbformat_minor": 2
}
